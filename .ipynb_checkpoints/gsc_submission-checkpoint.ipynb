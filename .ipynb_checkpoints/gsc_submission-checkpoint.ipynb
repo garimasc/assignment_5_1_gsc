{
 "cells": [
  {
   "cell_type": "markdown",
   "id": "94a25bba-5194-44e6-98af-95660b602179",
   "metadata": {},
   "source": [
    "# Will a Customer Accept the Coupon?"
   ]
  },
  {
   "cell_type": "markdown",
   "id": "425e3cae-69ab-4661-8df1-8738a15fe8df",
   "metadata": {},
   "source": [
    "## Import Python Libraries"
   ]
  },
  {
   "cell_type": "code",
   "execution_count": 1,
   "id": "ba2c74d6-099a-481d-9323-2e36fd9a5c08",
   "metadata": {},
   "outputs": [],
   "source": [
    "# Import libraries\n",
    "import pandas as pd\n",
    "import numpy as np\n",
    "\n",
    "import matplotlib.pyplot as plt\n",
    "import seaborn as sns\n",
    "\n",
    "import plotly.express as px\n",
    "import plotly.graph_objects as go\n",
    "from plotly.subplots import make_subplots\n",
    "\n",
    "# filter future warnings\n",
    "import warnings\n",
    "warnings.filterwarnings('ignore', category= FutureWarning)"
   ]
  },
  {
   "cell_type": "markdown",
   "id": "195f028a-2559-47e6-b7c2-7c70f03d7f70",
   "metadata": {},
   "source": [
    "## Read and Clean Data"
   ]
  },
  {
   "cell_type": "code",
   "execution_count": 2,
   "id": "85b77ac7-4f01-45d9-bc7f-abe9ba4cc88d",
   "metadata": {},
   "outputs": [
    {
     "data": {
      "text/html": [
       "<div>\n",
       "<style scoped>\n",
       "    .dataframe tbody tr th:only-of-type {\n",
       "        vertical-align: middle;\n",
       "    }\n",
       "\n",
       "    .dataframe tbody tr th {\n",
       "        vertical-align: top;\n",
       "    }\n",
       "\n",
       "    .dataframe thead th {\n",
       "        text-align: right;\n",
       "    }\n",
       "</style>\n",
       "<table border=\"1\" class=\"dataframe\">\n",
       "  <thead>\n",
       "    <tr style=\"text-align: right;\">\n",
       "      <th></th>\n",
       "      <th>destination</th>\n",
       "      <th>passanger</th>\n",
       "      <th>weather</th>\n",
       "      <th>temperature</th>\n",
       "      <th>time</th>\n",
       "      <th>coupon</th>\n",
       "      <th>expiration</th>\n",
       "      <th>gender</th>\n",
       "      <th>age</th>\n",
       "      <th>maritalStatus</th>\n",
       "      <th>...</th>\n",
       "      <th>CoffeeHouse</th>\n",
       "      <th>CarryAway</th>\n",
       "      <th>RestaurantLessThan20</th>\n",
       "      <th>Restaurant20To50</th>\n",
       "      <th>toCoupon_GEQ5min</th>\n",
       "      <th>toCoupon_GEQ15min</th>\n",
       "      <th>toCoupon_GEQ25min</th>\n",
       "      <th>direction_same</th>\n",
       "      <th>direction_opp</th>\n",
       "      <th>Y</th>\n",
       "    </tr>\n",
       "  </thead>\n",
       "  <tbody>\n",
       "    <tr>\n",
       "      <th>0</th>\n",
       "      <td>No Urgent Place</td>\n",
       "      <td>Alone</td>\n",
       "      <td>Sunny</td>\n",
       "      <td>55</td>\n",
       "      <td>2PM</td>\n",
       "      <td>Restaurant(&lt;20)</td>\n",
       "      <td>1d</td>\n",
       "      <td>Female</td>\n",
       "      <td>21</td>\n",
       "      <td>Unmarried partner</td>\n",
       "      <td>...</td>\n",
       "      <td>never</td>\n",
       "      <td>NaN</td>\n",
       "      <td>4~8</td>\n",
       "      <td>1~3</td>\n",
       "      <td>1</td>\n",
       "      <td>0</td>\n",
       "      <td>0</td>\n",
       "      <td>0</td>\n",
       "      <td>1</td>\n",
       "      <td>1</td>\n",
       "    </tr>\n",
       "    <tr>\n",
       "      <th>1</th>\n",
       "      <td>No Urgent Place</td>\n",
       "      <td>Friend(s)</td>\n",
       "      <td>Sunny</td>\n",
       "      <td>80</td>\n",
       "      <td>10AM</td>\n",
       "      <td>Coffee House</td>\n",
       "      <td>2h</td>\n",
       "      <td>Female</td>\n",
       "      <td>21</td>\n",
       "      <td>Unmarried partner</td>\n",
       "      <td>...</td>\n",
       "      <td>never</td>\n",
       "      <td>NaN</td>\n",
       "      <td>4~8</td>\n",
       "      <td>1~3</td>\n",
       "      <td>1</td>\n",
       "      <td>0</td>\n",
       "      <td>0</td>\n",
       "      <td>0</td>\n",
       "      <td>1</td>\n",
       "      <td>0</td>\n",
       "    </tr>\n",
       "    <tr>\n",
       "      <th>2</th>\n",
       "      <td>No Urgent Place</td>\n",
       "      <td>Friend(s)</td>\n",
       "      <td>Sunny</td>\n",
       "      <td>80</td>\n",
       "      <td>10AM</td>\n",
       "      <td>Carry out &amp; Take away</td>\n",
       "      <td>2h</td>\n",
       "      <td>Female</td>\n",
       "      <td>21</td>\n",
       "      <td>Unmarried partner</td>\n",
       "      <td>...</td>\n",
       "      <td>never</td>\n",
       "      <td>NaN</td>\n",
       "      <td>4~8</td>\n",
       "      <td>1~3</td>\n",
       "      <td>1</td>\n",
       "      <td>1</td>\n",
       "      <td>0</td>\n",
       "      <td>0</td>\n",
       "      <td>1</td>\n",
       "      <td>1</td>\n",
       "    </tr>\n",
       "    <tr>\n",
       "      <th>3</th>\n",
       "      <td>No Urgent Place</td>\n",
       "      <td>Friend(s)</td>\n",
       "      <td>Sunny</td>\n",
       "      <td>80</td>\n",
       "      <td>2PM</td>\n",
       "      <td>Coffee House</td>\n",
       "      <td>2h</td>\n",
       "      <td>Female</td>\n",
       "      <td>21</td>\n",
       "      <td>Unmarried partner</td>\n",
       "      <td>...</td>\n",
       "      <td>never</td>\n",
       "      <td>NaN</td>\n",
       "      <td>4~8</td>\n",
       "      <td>1~3</td>\n",
       "      <td>1</td>\n",
       "      <td>1</td>\n",
       "      <td>0</td>\n",
       "      <td>0</td>\n",
       "      <td>1</td>\n",
       "      <td>0</td>\n",
       "    </tr>\n",
       "    <tr>\n",
       "      <th>4</th>\n",
       "      <td>No Urgent Place</td>\n",
       "      <td>Friend(s)</td>\n",
       "      <td>Sunny</td>\n",
       "      <td>80</td>\n",
       "      <td>2PM</td>\n",
       "      <td>Coffee House</td>\n",
       "      <td>1d</td>\n",
       "      <td>Female</td>\n",
       "      <td>21</td>\n",
       "      <td>Unmarried partner</td>\n",
       "      <td>...</td>\n",
       "      <td>never</td>\n",
       "      <td>NaN</td>\n",
       "      <td>4~8</td>\n",
       "      <td>1~3</td>\n",
       "      <td>1</td>\n",
       "      <td>1</td>\n",
       "      <td>0</td>\n",
       "      <td>0</td>\n",
       "      <td>1</td>\n",
       "      <td>0</td>\n",
       "    </tr>\n",
       "  </tbody>\n",
       "</table>\n",
       "<p>5 rows × 26 columns</p>\n",
       "</div>"
      ],
      "text/plain": [
       "       destination  passanger weather  temperature  time  \\\n",
       "0  No Urgent Place      Alone   Sunny           55   2PM   \n",
       "1  No Urgent Place  Friend(s)   Sunny           80  10AM   \n",
       "2  No Urgent Place  Friend(s)   Sunny           80  10AM   \n",
       "3  No Urgent Place  Friend(s)   Sunny           80   2PM   \n",
       "4  No Urgent Place  Friend(s)   Sunny           80   2PM   \n",
       "\n",
       "                  coupon expiration  gender age      maritalStatus  ...  \\\n",
       "0        Restaurant(<20)         1d  Female  21  Unmarried partner  ...   \n",
       "1           Coffee House         2h  Female  21  Unmarried partner  ...   \n",
       "2  Carry out & Take away         2h  Female  21  Unmarried partner  ...   \n",
       "3           Coffee House         2h  Female  21  Unmarried partner  ...   \n",
       "4           Coffee House         1d  Female  21  Unmarried partner  ...   \n",
       "\n",
       "   CoffeeHouse CarryAway RestaurantLessThan20 Restaurant20To50  \\\n",
       "0        never       NaN                  4~8              1~3   \n",
       "1        never       NaN                  4~8              1~3   \n",
       "2        never       NaN                  4~8              1~3   \n",
       "3        never       NaN                  4~8              1~3   \n",
       "4        never       NaN                  4~8              1~3   \n",
       "\n",
       "  toCoupon_GEQ5min toCoupon_GEQ15min toCoupon_GEQ25min direction_same  \\\n",
       "0                1                 0                 0              0   \n",
       "1                1                 0                 0              0   \n",
       "2                1                 1                 0              0   \n",
       "3                1                 1                 0              0   \n",
       "4                1                 1                 0              0   \n",
       "\n",
       "  direction_opp  Y  \n",
       "0             1  1  \n",
       "1             1  0  \n",
       "2             1  1  \n",
       "3             1  0  \n",
       "4             1  0  \n",
       "\n",
       "[5 rows x 26 columns]"
      ]
     },
     "execution_count": 2,
     "metadata": {},
     "output_type": "execute_result"
    }
   ],
   "source": [
    "# read and visualize data\n",
    "data = pd.read_csv('data/coupons.csv')\n",
    "data.head()"
   ]
  },
  {
   "cell_type": "code",
   "execution_count": 3,
   "id": "06eae307-e921-4964-be94-acea60d4953e",
   "metadata": {},
   "outputs": [
    {
     "name": "stdout",
     "output_type": "stream",
     "text": [
      "<class 'pandas.core.frame.DataFrame'>\n",
      "RangeIndex: 12684 entries, 0 to 12683\n",
      "Data columns (total 26 columns):\n",
      " #   Column                Non-Null Count  Dtype \n",
      "---  ------                --------------  ----- \n",
      " 0   destination           12684 non-null  object\n",
      " 1   passanger             12684 non-null  object\n",
      " 2   weather               12684 non-null  object\n",
      " 3   temperature           12684 non-null  int64 \n",
      " 4   time                  12684 non-null  object\n",
      " 5   coupon                12684 non-null  object\n",
      " 6   expiration            12684 non-null  object\n",
      " 7   gender                12684 non-null  object\n",
      " 8   age                   12684 non-null  object\n",
      " 9   maritalStatus         12684 non-null  object\n",
      " 10  has_children          12684 non-null  int64 \n",
      " 11  education             12684 non-null  object\n",
      " 12  occupation            12684 non-null  object\n",
      " 13  income                12684 non-null  object\n",
      " 14  car                   108 non-null    object\n",
      " 15  Bar                   12577 non-null  object\n",
      " 16  CoffeeHouse           12467 non-null  object\n",
      " 17  CarryAway             12533 non-null  object\n",
      " 18  RestaurantLessThan20  12554 non-null  object\n",
      " 19  Restaurant20To50      12495 non-null  object\n",
      " 20  toCoupon_GEQ5min      12684 non-null  int64 \n",
      " 21  toCoupon_GEQ15min     12684 non-null  int64 \n",
      " 22  toCoupon_GEQ25min     12684 non-null  int64 \n",
      " 23  direction_same        12684 non-null  int64 \n",
      " 24  direction_opp         12684 non-null  int64 \n",
      " 25  Y                     12684 non-null  int64 \n",
      "dtypes: int64(8), object(18)\n",
      "memory usage: 2.5+ MB\n"
     ]
    }
   ],
   "source": [
    "data.info()"
   ]
  },
  {
   "cell_type": "markdown",
   "id": "f6609fcf-36d8-46f7-a4b0-005b08a0ffc0",
   "metadata": {},
   "source": [
    "### Missing Data\n",
    "\n",
    "Using the code snippet below, we can see that the column _'car'_ is missing 99% of the values. This is a data field which we may not be able to use in the analysis.\n",
    "\n",
    "However, there are other columns like _'Bar'_, _'CoffeeHouse'_, etc. which have a count of the average no. of times a customer went to an establishment like that. These columns have 1-2% of the data missing. We have two options here:\n",
    "\n",
    "1. Ignore rows with NaNs, and remove them from our analysis.\n",
    "2. Replace NaNs with _'never'_ based on the assumption that if data is missing, the customer never goes to that category of food store.\n",
    "\n",
    "We are going to choose option 1 for now."
   ]
  },
  {
   "cell_type": "code",
   "execution_count": 4,
   "id": "db6f8d2f-12fc-4019-bbc8-520b763c1147",
   "metadata": {},
   "outputs": [
    {
     "name": "stdout",
     "output_type": "stream",
     "text": [
      "car                     0.99\n",
      "Bar                     0.01\n",
      "CoffeeHouse             0.02\n",
      "CarryAway               0.01\n",
      "RestaurantLessThan20    0.01\n",
      "Restaurant20To50        0.01\n",
      "dtype: float64\n"
     ]
    }
   ],
   "source": [
    "# What fraction of values are Null/NaN?\n",
    "\n",
    "na_fraction = np.round(data.isna().sum()/data.shape[0],2)\n",
    "print(na_fraction[na_fraction > 0]) # print columns with null values\n",
    "\n",
    "# drop rows with NaNs in rows other than column 'car'\n",
    "data.dropna(subset= na_fraction[(na_fraction >0) & (na_fraction < 0.99)].index.tolist(), inplace= True)"
   ]
  },
  {
   "cell_type": "markdown",
   "id": "637286c3-c6f1-4355-a62d-a2539a5678f9",
   "metadata": {},
   "source": [
    "### Sanity Checks (after dropping NaN)\n",
    "\n",
    "After removing NaNs, *~57%* of the population chose to accept the coupon.\n",
    "\n",
    "There are two columns for direction: check that both cannot be zero or one.\n"
   ]
  },
  {
   "cell_type": "code",
   "execution_count": 5,
   "id": "78044f56-7a21-46a8-a9a9-3d7bb8837d95",
   "metadata": {},
   "outputs": [
    {
     "name": "stdout",
     "output_type": "stream",
     "text": [
      "0.57\n"
     ]
    }
   ],
   "source": [
    "# chose to accept coupon\n",
    "print( np.round(data['Y'].sum()/data.shape[0],2))"
   ]
  },
  {
   "cell_type": "code",
   "execution_count": 6,
   "id": "1a143a9e-011a-4b33-8cb9-08670f726607",
   "metadata": {},
   "outputs": [
    {
     "data": {
      "text/plain": [
       "1    12079\n",
       "Name: count, dtype: int64"
      ]
     },
     "execution_count": 6,
     "metadata": {},
     "output_type": "execute_result"
    }
   ],
   "source": [
    "data[['direction_same','direction_opp']].sum(axis= 1).value_counts() # all rows sum up to 1"
   ]
  },
  {
   "cell_type": "markdown",
   "id": "b954786b-41c5-4cee-b769-d1b94e817830",
   "metadata": {},
   "source": [
    "### Cleaning Data\n",
    "\n",
    "#### 1.'Coupon' column\n",
    "The values in coupon column and the different columns for the type of shop frequented are the same. But there are slight differences in spelling etc. We hypothesize that the chances of accepting a Bar coupon are higher if a customer goes to a bar frequently. Therefore, I try to make these two values the same.\n",
    "\n",
    "#### 2. New column with replaced values of 'Y'\n",
    "For ease in plotting, create a new column _'Accepted'_ which has values of 'Yes' and 'No', instead of 0 and 1.\n",
    "\n",
    "#### 3. New column for direction\n",
    "Combine _direction_same_ and _direction_opp_ into a single column called _Direction_. This column also has a 'N/A' when there is no specific destination. Currently, the data tags all 'No Urgent Place' destinations as 'Opposite', which might misrepresent data.\n",
    "\n",
    "#### 4. New column for age\n",
    "The _age_ column currently is a string object column. In order to make it numeric, we will replace it with ages which represent the mid-point of the age bracket. This means that 'below21' becomes 10.5, 21 becomes 23, and '50plus' becomes 75 assuming upper age to be 100.\n",
    "\n",
    "#### 5. Codes for number of visits\n",
    "The no. of visits columns have values such as _'never'_, _'less1'_, and _'gt8'_. These are easy to interpret as text but even though there is a clear order here, we cannot sort string values. Therefore, we create a code dictionary for these codes.\n",
    "\n",
    "| Avg. Visit | Description | Code |\r\n",
    "| :- |:- |  :-: |\r\n",
    "never | Never visits | 0 |\n",
    "| less1 | N<1 | 1 |\n",
    "| 1~3 | 1<=N<=3 | 2 |\n",
    "| 4~8 | 4<=N<=8 | 3 |\n",
    "| gt8 | 8<N | 4 |43\n"
   ]
  },
  {
   "cell_type": "code",
   "execution_count": 7,
   "id": "29237074-1e91-4ad0-8eb8-414dfff48dbd",
   "metadata": {},
   "outputs": [],
   "source": [
    "coupon_dict = {'Carry out & Take away': 'CarryAway', 'Coffee House': 'CoffeeHouse', 'Restaurant(20-50)': 'Restaurant20To50',\n",
    "               'Restaurant(<20)': 'RestaurantLessThan20'}\n",
    "data['coupon'] = data['coupon'].replace(coupon_dict)\n",
    "\n",
    "data['Accepted'] = data['Y'].replace({1:'Yes', 0:'No'})\n",
    "data['Direction'] = data['direction_same'].replace({0: 'Opposite', 1: 'Same'})\n",
    "data.loc[data['destination'] == \"No Urgent Place\", \"Direction\"] = \"N/A\"\n",
    "\n",
    "data['age_new'] = data['age'].replace({'below21': 10.5, '21': 23, '26': 28, '31': 33, '36': 38, '41': 43, '46': 48, '50plus': 75})\n",
    "order_age = ['below21','21','26','31','36','41','46','50plus']\n",
    "\n",
    "visit_dict = {'never': 0, 'less1': 1, '1~3': 2, '4~8': 3, 'gt8': 4}\n",
    "order_visit = ['never', 'less1', '1~3', '4~8', 'gt8']\n",
    "order_income = ['Less than $12500', '$12500 - $24999', '$25000 - $37499', '$37500 - $49999', '$50000 - $62499', '$62500 - $74999', \n",
    "                '$75000 - $87499', '$87500 - $99999', '$100000 or More']"
   ]
  },
  {
   "cell_type": "markdown",
   "id": "aa8f1a0c-9d4d-4a8e-9972-66efa009b9bc",
   "metadata": {},
   "source": [
    "## Analyze Data"
   ]
  },
  {
   "cell_type": "markdown",
   "id": "0244a088-56ca-4d30-858e-0b97ed9c59d0",
   "metadata": {},
   "source": [
    "#### Does destination and/or direction of travel impact coupon acceptance?\n",
    "Across all different coupon types, we can see that coupon venue being in the same direction as the venue, does not significantly increase the chance of coupon acceptance.\n",
    "\n",
    "In fact, for _CarryAway_ coupon type, venue being in the opposite direction marginally increases the chances of acceptance. This result is clearly counterintuitive. In order to explore this further, we look into the _destination_, and whether it is in the same direction as the coupon venue.\n",
    "\n",
    "<ins>**Conclusion:** We can clearly see that when there is no specific destination, the rate of acceptance is higher. However, if the customer is going home, coupon venue being in the same direction as home significantly increases the chances of acceptance.</ins>"
   ]
  },
  {
   "cell_type": "code",
   "execution_count": 8,
   "id": "518d6f3e-6312-4809-b1a4-f966519157d2",
   "metadata": {},
   "outputs": [
    {
     "data": {
      "text/html": [
       "<div>\n",
       "<style scoped>\n",
       "    .dataframe tbody tr th:only-of-type {\n",
       "        vertical-align: middle;\n",
       "    }\n",
       "\n",
       "    .dataframe tbody tr th {\n",
       "        vertical-align: top;\n",
       "    }\n",
       "\n",
       "    .dataframe thead th {\n",
       "        text-align: right;\n",
       "    }\n",
       "</style>\n",
       "<table border=\"1\" class=\"dataframe\">\n",
       "  <thead>\n",
       "    <tr style=\"text-align: right;\">\n",
       "      <th>coupon</th>\n",
       "      <th>Bar</th>\n",
       "      <th>CarryAway</th>\n",
       "      <th>CoffeeHouse</th>\n",
       "      <th>Restaurant20To50</th>\n",
       "      <th>RestaurantLessThan20</th>\n",
       "      <th>All</th>\n",
       "    </tr>\n",
       "    <tr>\n",
       "      <th>Direction</th>\n",
       "      <th></th>\n",
       "      <th></th>\n",
       "      <th></th>\n",
       "      <th></th>\n",
       "      <th></th>\n",
       "      <th></th>\n",
       "    </tr>\n",
       "  </thead>\n",
       "  <tbody>\n",
       "    <tr>\n",
       "      <th>N/A</th>\n",
       "      <td>0.41</td>\n",
       "      <td>0.76</td>\n",
       "      <td>0.58</td>\n",
       "      <td>0.50</td>\n",
       "      <td>0.79</td>\n",
       "      <td>0.63</td>\n",
       "    </tr>\n",
       "    <tr>\n",
       "      <th>Opposite</th>\n",
       "      <td>0.38</td>\n",
       "      <td>0.74</td>\n",
       "      <td>0.32</td>\n",
       "      <td>0.41</td>\n",
       "      <td>0.52</td>\n",
       "      <td>0.45</td>\n",
       "    </tr>\n",
       "    <tr>\n",
       "      <th>Same</th>\n",
       "      <td>0.46</td>\n",
       "      <td>0.71</td>\n",
       "      <td>0.53</td>\n",
       "      <td>0.47</td>\n",
       "      <td>0.63</td>\n",
       "      <td>0.58</td>\n",
       "    </tr>\n",
       "    <tr>\n",
       "      <th>All</th>\n",
       "      <td>0.41</td>\n",
       "      <td>0.74</td>\n",
       "      <td>0.50</td>\n",
       "      <td>0.45</td>\n",
       "      <td>0.71</td>\n",
       "      <td>0.57</td>\n",
       "    </tr>\n",
       "  </tbody>\n",
       "</table>\n",
       "</div>"
      ],
      "text/plain": [
       "coupon      Bar  CarryAway  CoffeeHouse  Restaurant20To50  \\\n",
       "Direction                                                   \n",
       "N/A        0.41       0.76         0.58              0.50   \n",
       "Opposite   0.38       0.74         0.32              0.41   \n",
       "Same       0.46       0.71         0.53              0.47   \n",
       "All        0.41       0.74         0.50              0.45   \n",
       "\n",
       "coupon     RestaurantLessThan20   All  \n",
       "Direction                              \n",
       "N/A                        0.79  0.63  \n",
       "Opposite                   0.52  0.45  \n",
       "Same                       0.63  0.58  \n",
       "All                        0.71  0.57  "
      ]
     },
     "execution_count": 8,
     "metadata": {},
     "output_type": "execute_result"
    }
   ],
   "source": [
    "pd.pivot_table(data, index= \"Direction\", columns= \"coupon\", values= \"Y\", aggfunc= lambda x: \n",
    "               np.round(x.sum()/x.shape[0],2), margins= True)"
   ]
  },
  {
   "cell_type": "code",
   "execution_count": 9,
   "id": "60264782-e329-4b25-8e36-f96bfd2364fd",
   "metadata": {},
   "outputs": [
    {
     "data": {
      "text/html": [
       "<div>\n",
       "<style scoped>\n",
       "    .dataframe tbody tr th:only-of-type {\n",
       "        vertical-align: middle;\n",
       "    }\n",
       "\n",
       "    .dataframe tbody tr th {\n",
       "        vertical-align: top;\n",
       "    }\n",
       "\n",
       "    .dataframe thead th {\n",
       "        text-align: right;\n",
       "    }\n",
       "</style>\n",
       "<table border=\"1\" class=\"dataframe\">\n",
       "  <thead>\n",
       "    <tr style=\"text-align: right;\">\n",
       "      <th>destination</th>\n",
       "      <th>Home</th>\n",
       "      <th>No Urgent Place</th>\n",
       "      <th>Work</th>\n",
       "      <th>All</th>\n",
       "    </tr>\n",
       "    <tr>\n",
       "      <th>Direction</th>\n",
       "      <th></th>\n",
       "      <th></th>\n",
       "      <th></th>\n",
       "      <th></th>\n",
       "    </tr>\n",
       "  </thead>\n",
       "  <tbody>\n",
       "    <tr>\n",
       "      <th>N/A</th>\n",
       "      <td>NaN</td>\n",
       "      <td>0.63</td>\n",
       "      <td>NaN</td>\n",
       "      <td>0.63</td>\n",
       "    </tr>\n",
       "    <tr>\n",
       "      <th>Opposite</th>\n",
       "      <td>0.43</td>\n",
       "      <td>NaN</td>\n",
       "      <td>0.47</td>\n",
       "      <td>0.45</td>\n",
       "    </tr>\n",
       "    <tr>\n",
       "      <th>Same</th>\n",
       "      <td>0.60</td>\n",
       "      <td>NaN</td>\n",
       "      <td>0.56</td>\n",
       "      <td>0.58</td>\n",
       "    </tr>\n",
       "    <tr>\n",
       "      <th>All</th>\n",
       "      <td>0.51</td>\n",
       "      <td>0.63</td>\n",
       "      <td>0.50</td>\n",
       "      <td>0.57</td>\n",
       "    </tr>\n",
       "  </tbody>\n",
       "</table>\n",
       "</div>"
      ],
      "text/plain": [
       "destination  Home  No Urgent Place  Work   All\n",
       "Direction                                     \n",
       "N/A           NaN             0.63   NaN  0.63\n",
       "Opposite     0.43              NaN  0.47  0.45\n",
       "Same         0.60              NaN  0.56  0.58\n",
       "All          0.51             0.63  0.50  0.57"
      ]
     },
     "execution_count": 9,
     "metadata": {},
     "output_type": "execute_result"
    }
   ],
   "source": [
    "pd.pivot_table(data, index= \"Direction\", columns= \"destination\", values= \"Y\", aggfunc= lambda x: \n",
    "               np.round(x.sum()/x.shape[0],2), margins= True)"
   ]
  },
  {
   "cell_type": "markdown",
   "id": "52220b49-cd8f-44f4-8e1f-bab52f32d8d6",
   "metadata": {},
   "source": [
    "#### Distance from Coupon Venue\n",
    "\n",
    "We are making the assumption that all customers are at least 5 min away from the coupon venue, and the columns _toCoupon_GEQ15min_ and _toCoupon_GEQ25min_ represent if the coupon venue is more than 15 and 25 min away respectively.\n",
    "\n",
    "<ins>**Conclusion:** We can clearly see that acceptance rate decreases as the coupon venue distance increases.</ins>"
   ]
  },
  {
   "cell_type": "code",
   "execution_count": null,
   "id": "0bc30d32-ebb5-4fb7-b783-b4e824cc5f85",
   "metadata": {},
   "outputs": [
    {
     "name": "stdout",
     "output_type": "stream",
     "text": [
      "toCoupon_GEQ5min  toCoupon_GEQ15min  toCoupon_GEQ25min\n",
      "1                 0                  0                    0.615094\n",
      "                  1                  0                    0.560427\n",
      "                                     1                    0.434119\n",
      "Name: Y, dtype: float64\n"
     ]
    },
    {
     "data": {
      "application/vnd.plotly.v1+json": {
       "config": {
        "plotlyServerURL": "https://plot.ly"
       },
       "data": [
        {
         "arrangement": "snap",
         "link": {
          "source": [
           0,
           1,
           2,
           2,
           4,
           4
          ],
          "target": [
           1,
           2,
           3,
           4,
           5,
           6
          ],
          "value": [
           12079,
           12079,
           5300,
           6779,
           5337,
           1442
          ]
         },
         "node": {
          "label": [
           "All",
           "GEQ > 5min",
           "GEQ >15min",
           "No (Acceptance= 61.5%)",
           "GEQ >25min",
           "No (Acceptance=56.0%)",
           "Yes (Acceptance=43.4%)"
          ],
          "x": [
           0.1,
           0.2,
           0.33,
           0.66,
           0.66,
           0.9,
           0.9
          ],
          "y": [
           0.5,
           0.5,
           0.5,
           0.2,
           0.8,
           0.6,
           0.9
          ]
         },
         "type": "sankey"
        }
       ],
       "layout": {
        "autosize": true,
        "template": {
         "data": {
          "bar": [
           {
            "error_x": {
             "color": "#2a3f5f"
            },
            "error_y": {
             "color": "#2a3f5f"
            },
            "marker": {
             "line": {
              "color": "#E5ECF6",
              "width": 0.5
             },
             "pattern": {
              "fillmode": "overlay",
              "size": 10,
              "solidity": 0.2
             }
            },
            "type": "bar"
           }
          ],
          "barpolar": [
           {
            "marker": {
             "line": {
              "color": "#E5ECF6",
              "width": 0.5
             },
             "pattern": {
              "fillmode": "overlay",
              "size": 10,
              "solidity": 0.2
             }
            },
            "type": "barpolar"
           }
          ],
          "carpet": [
           {
            "aaxis": {
             "endlinecolor": "#2a3f5f",
             "gridcolor": "white",
             "linecolor": "white",
             "minorgridcolor": "white",
             "startlinecolor": "#2a3f5f"
            },
            "baxis": {
             "endlinecolor": "#2a3f5f",
             "gridcolor": "white",
             "linecolor": "white",
             "minorgridcolor": "white",
             "startlinecolor": "#2a3f5f"
            },
            "type": "carpet"
           }
          ],
          "choropleth": [
           {
            "colorbar": {
             "outlinewidth": 0,
             "ticks": ""
            },
            "type": "choropleth"
           }
          ],
          "contour": [
           {
            "colorbar": {
             "outlinewidth": 0,
             "ticks": ""
            },
            "colorscale": [
             [
              0,
              "#0d0887"
             ],
             [
              0.1111111111111111,
              "#46039f"
             ],
             [
              0.2222222222222222,
              "#7201a8"
             ],
             [
              0.3333333333333333,
              "#9c179e"
             ],
             [
              0.4444444444444444,
              "#bd3786"
             ],
             [
              0.5555555555555556,
              "#d8576b"
             ],
             [
              0.6666666666666666,
              "#ed7953"
             ],
             [
              0.7777777777777778,
              "#fb9f3a"
             ],
             [
              0.8888888888888888,
              "#fdca26"
             ],
             [
              1,
              "#f0f921"
             ]
            ],
            "type": "contour"
           }
          ],
          "contourcarpet": [
           {
            "colorbar": {
             "outlinewidth": 0,
             "ticks": ""
            },
            "type": "contourcarpet"
           }
          ],
          "heatmap": [
           {
            "colorbar": {
             "outlinewidth": 0,
             "ticks": ""
            },
            "colorscale": [
             [
              0,
              "#0d0887"
             ],
             [
              0.1111111111111111,
              "#46039f"
             ],
             [
              0.2222222222222222,
              "#7201a8"
             ],
             [
              0.3333333333333333,
              "#9c179e"
             ],
             [
              0.4444444444444444,
              "#bd3786"
             ],
             [
              0.5555555555555556,
              "#d8576b"
             ],
             [
              0.6666666666666666,
              "#ed7953"
             ],
             [
              0.7777777777777778,
              "#fb9f3a"
             ],
             [
              0.8888888888888888,
              "#fdca26"
             ],
             [
              1,
              "#f0f921"
             ]
            ],
            "type": "heatmap"
           }
          ],
          "heatmapgl": [
           {
            "colorbar": {
             "outlinewidth": 0,
             "ticks": ""
            },
            "colorscale": [
             [
              0,
              "#0d0887"
             ],
             [
              0.1111111111111111,
              "#46039f"
             ],
             [
              0.2222222222222222,
              "#7201a8"
             ],
             [
              0.3333333333333333,
              "#9c179e"
             ],
             [
              0.4444444444444444,
              "#bd3786"
             ],
             [
              0.5555555555555556,
              "#d8576b"
             ],
             [
              0.6666666666666666,
              "#ed7953"
             ],
             [
              0.7777777777777778,
              "#fb9f3a"
             ],
             [
              0.8888888888888888,
              "#fdca26"
             ],
             [
              1,
              "#f0f921"
             ]
            ],
            "type": "heatmapgl"
           }
          ],
          "histogram": [
           {
            "marker": {
             "pattern": {
              "fillmode": "overlay",
              "size": 10,
              "solidity": 0.2
             }
            },
            "type": "histogram"
           }
          ],
          "histogram2d": [
           {
            "colorbar": {
             "outlinewidth": 0,
             "ticks": ""
            },
            "colorscale": [
             [
              0,
              "#0d0887"
             ],
             [
              0.1111111111111111,
              "#46039f"
             ],
             [
              0.2222222222222222,
              "#7201a8"
             ],
             [
              0.3333333333333333,
              "#9c179e"
             ],
             [
              0.4444444444444444,
              "#bd3786"
             ],
             [
              0.5555555555555556,
              "#d8576b"
             ],
             [
              0.6666666666666666,
              "#ed7953"
             ],
             [
              0.7777777777777778,
              "#fb9f3a"
             ],
             [
              0.8888888888888888,
              "#fdca26"
             ],
             [
              1,
              "#f0f921"
             ]
            ],
            "type": "histogram2d"
           }
          ],
          "histogram2dcontour": [
           {
            "colorbar": {
             "outlinewidth": 0,
             "ticks": ""
            },
            "colorscale": [
             [
              0,
              "#0d0887"
             ],
             [
              0.1111111111111111,
              "#46039f"
             ],
             [
              0.2222222222222222,
              "#7201a8"
             ],
             [
              0.3333333333333333,
              "#9c179e"
             ],
             [
              0.4444444444444444,
              "#bd3786"
             ],
             [
              0.5555555555555556,
              "#d8576b"
             ],
             [
              0.6666666666666666,
              "#ed7953"
             ],
             [
              0.7777777777777778,
              "#fb9f3a"
             ],
             [
              0.8888888888888888,
              "#fdca26"
             ],
             [
              1,
              "#f0f921"
             ]
            ],
            "type": "histogram2dcontour"
           }
          ],
          "mesh3d": [
           {
            "colorbar": {
             "outlinewidth": 0,
             "ticks": ""
            },
            "type": "mesh3d"
           }
          ],
          "parcoords": [
           {
            "line": {
             "colorbar": {
              "outlinewidth": 0,
              "ticks": ""
             }
            },
            "type": "parcoords"
           }
          ],
          "pie": [
           {
            "automargin": true,
            "type": "pie"
           }
          ],
          "scatter": [
           {
            "fillpattern": {
             "fillmode": "overlay",
             "size": 10,
             "solidity": 0.2
            },
            "type": "scatter"
           }
          ],
          "scatter3d": [
           {
            "line": {
             "colorbar": {
              "outlinewidth": 0,
              "ticks": ""
             }
            },
            "marker": {
             "colorbar": {
              "outlinewidth": 0,
              "ticks": ""
             }
            },
            "type": "scatter3d"
           }
          ],
          "scattercarpet": [
           {
            "marker": {
             "colorbar": {
              "outlinewidth": 0,
              "ticks": ""
             }
            },
            "type": "scattercarpet"
           }
          ],
          "scattergeo": [
           {
            "marker": {
             "colorbar": {
              "outlinewidth": 0,
              "ticks": ""
             }
            },
            "type": "scattergeo"
           }
          ],
          "scattergl": [
           {
            "marker": {
             "colorbar": {
              "outlinewidth": 0,
              "ticks": ""
             }
            },
            "type": "scattergl"
           }
          ],
          "scattermapbox": [
           {
            "marker": {
             "colorbar": {
              "outlinewidth": 0,
              "ticks": ""
             }
            },
            "type": "scattermapbox"
           }
          ],
          "scatterpolar": [
           {
            "marker": {
             "colorbar": {
              "outlinewidth": 0,
              "ticks": ""
             }
            },
            "type": "scatterpolar"
           }
          ],
          "scatterpolargl": [
           {
            "marker": {
             "colorbar": {
              "outlinewidth": 0,
              "ticks": ""
             }
            },
            "type": "scatterpolargl"
           }
          ],
          "scatterternary": [
           {
            "marker": {
             "colorbar": {
              "outlinewidth": 0,
              "ticks": ""
             }
            },
            "type": "scatterternary"
           }
          ],
          "surface": [
           {
            "colorbar": {
             "outlinewidth": 0,
             "ticks": ""
            },
            "colorscale": [
             [
              0,
              "#0d0887"
             ],
             [
              0.1111111111111111,
              "#46039f"
             ],
             [
              0.2222222222222222,
              "#7201a8"
             ],
             [
              0.3333333333333333,
              "#9c179e"
             ],
             [
              0.4444444444444444,
              "#bd3786"
             ],
             [
              0.5555555555555556,
              "#d8576b"
             ],
             [
              0.6666666666666666,
              "#ed7953"
             ],
             [
              0.7777777777777778,
              "#fb9f3a"
             ],
             [
              0.8888888888888888,
              "#fdca26"
             ],
             [
              1,
              "#f0f921"
             ]
            ],
            "type": "surface"
           }
          ],
          "table": [
           {
            "cells": {
             "fill": {
              "color": "#EBF0F8"
             },
             "line": {
              "color": "white"
             }
            },
            "header": {
             "fill": {
              "color": "#C8D4E3"
             },
             "line": {
              "color": "white"
             }
            },
            "type": "table"
           }
          ]
         },
         "layout": {
          "annotationdefaults": {
           "arrowcolor": "#2a3f5f",
           "arrowhead": 0,
           "arrowwidth": 1
          },
          "autotypenumbers": "strict",
          "coloraxis": {
           "colorbar": {
            "outlinewidth": 0,
            "ticks": ""
           }
          },
          "colorscale": {
           "diverging": [
            [
             0,
             "#8e0152"
            ],
            [
             0.1,
             "#c51b7d"
            ],
            [
             0.2,
             "#de77ae"
            ],
            [
             0.3,
             "#f1b6da"
            ],
            [
             0.4,
             "#fde0ef"
            ],
            [
             0.5,
             "#f7f7f7"
            ],
            [
             0.6,
             "#e6f5d0"
            ],
            [
             0.7,
             "#b8e186"
            ],
            [
             0.8,
             "#7fbc41"
            ],
            [
             0.9,
             "#4d9221"
            ],
            [
             1,
             "#276419"
            ]
           ],
           "sequential": [
            [
             0,
             "#0d0887"
            ],
            [
             0.1111111111111111,
             "#46039f"
            ],
            [
             0.2222222222222222,
             "#7201a8"
            ],
            [
             0.3333333333333333,
             "#9c179e"
            ],
            [
             0.4444444444444444,
             "#bd3786"
            ],
            [
             0.5555555555555556,
             "#d8576b"
            ],
            [
             0.6666666666666666,
             "#ed7953"
            ],
            [
             0.7777777777777778,
             "#fb9f3a"
            ],
            [
             0.8888888888888888,
             "#fdca26"
            ],
            [
             1,
             "#f0f921"
            ]
           ],
           "sequentialminus": [
            [
             0,
             "#0d0887"
            ],
            [
             0.1111111111111111,
             "#46039f"
            ],
            [
             0.2222222222222222,
             "#7201a8"
            ],
            [
             0.3333333333333333,
             "#9c179e"
            ],
            [
             0.4444444444444444,
             "#bd3786"
            ],
            [
             0.5555555555555556,
             "#d8576b"
            ],
            [
             0.6666666666666666,
             "#ed7953"
            ],
            [
             0.7777777777777778,
             "#fb9f3a"
            ],
            [
             0.8888888888888888,
             "#fdca26"
            ],
            [
             1,
             "#f0f921"
            ]
           ]
          },
          "colorway": [
           "#636efa",
           "#EF553B",
           "#00cc96",
           "#ab63fa",
           "#FFA15A",
           "#19d3f3",
           "#FF6692",
           "#B6E880",
           "#FF97FF",
           "#FECB52"
          ],
          "font": {
           "color": "#2a3f5f"
          },
          "geo": {
           "bgcolor": "white",
           "lakecolor": "white",
           "landcolor": "#E5ECF6",
           "showlakes": true,
           "showland": true,
           "subunitcolor": "white"
          },
          "hoverlabel": {
           "align": "left"
          },
          "hovermode": "closest",
          "mapbox": {
           "style": "light"
          },
          "paper_bgcolor": "white",
          "plot_bgcolor": "#E5ECF6",
          "polar": {
           "angularaxis": {
            "gridcolor": "white",
            "linecolor": "white",
            "ticks": ""
           },
           "bgcolor": "#E5ECF6",
           "radialaxis": {
            "gridcolor": "white",
            "linecolor": "white",
            "ticks": ""
           }
          },
          "scene": {
           "xaxis": {
            "backgroundcolor": "#E5ECF6",
            "gridcolor": "white",
            "gridwidth": 2,
            "linecolor": "white",
            "showbackground": true,
            "ticks": "",
            "zerolinecolor": "white"
           },
           "yaxis": {
            "backgroundcolor": "#E5ECF6",
            "gridcolor": "white",
            "gridwidth": 2,
            "linecolor": "white",
            "showbackground": true,
            "ticks": "",
            "zerolinecolor": "white"
           },
           "zaxis": {
            "backgroundcolor": "#E5ECF6",
            "gridcolor": "white",
            "gridwidth": 2,
            "linecolor": "white",
            "showbackground": true,
            "ticks": "",
            "zerolinecolor": "white"
           }
          },
          "shapedefaults": {
           "line": {
            "color": "#2a3f5f"
           }
          },
          "ternary": {
           "aaxis": {
            "gridcolor": "white",
            "linecolor": "white",
            "ticks": ""
           },
           "baxis": {
            "gridcolor": "white",
            "linecolor": "white",
            "ticks": ""
           },
           "bgcolor": "#E5ECF6",
           "caxis": {
            "gridcolor": "white",
            "linecolor": "white",
            "ticks": ""
           }
          },
          "title": {
           "x": 0.05
          },
          "xaxis": {
           "automargin": true,
           "gridcolor": "white",
           "linecolor": "white",
           "ticks": "",
           "title": {
            "standoff": 15
           },
           "zerolinecolor": "white",
           "zerolinewidth": 2
          },
          "yaxis": {
           "automargin": true,
           "gridcolor": "white",
           "linecolor": "white",
           "ticks": "",
           "title": {
            "standoff": 15
           },
           "zerolinecolor": "white",
           "zerolinewidth": 2
          }
         }
        },
        "title": {
         "text": "Acceptance Rate based on Distance From Coupon Venue"
        }
       }
      },
      "image/png": "[encoded data removed]",
      "text/html": [
       "<div>                            <div id=\"3aec4aae-f493-4b8c-86e1-6c3ecfa28e9e\" class=\"plotly-graph-div\" style=\"height:525px; width:100%;\"></div>            <script type=\"text/javascript\">                require([\"plotly\"], function(Plotly) {                    window.PLOTLYENV=window.PLOTLYENV || {};                                    if (document.getElementById(\"3aec4aae-f493-4b8c-86e1-6c3ecfa28e9e\")) {                    Plotly.newPlot(                        \"3aec4aae-f493-4b8c-86e1-6c3ecfa28e9e\",                        [{\"arrangement\":\"snap\",\"link\":{\"source\":[0,1,2,2,4,4],\"target\":[1,2,3,4,5,6],\"value\":[12079,12079,5300,6779,5337,1442]},\"node\":{\"label\":[\"All\",\"GEQ > 5min\",\"GEQ >15min\",\"No (Acceptance= 61.5%)\",\"GEQ >25min\",\"No (Acceptance=56.0%)\",\"Yes (Acceptance=43.4%)\"],\"x\":[0.1,0.2,0.33,0.66,0.66,0.9,0.9],\"y\":[0.5,0.5,0.5,0.2,0.8,0.6,0.9]},\"type\":\"sankey\"}],                        {\"template\":{\"data\":{\"histogram2dcontour\":[{\"type\":\"histogram2dcontour\",\"colorbar\":{\"outlinewidth\":0,\"ticks\":\"\"},\"colorscale\":[[0.0,\"#0d0887\"],[0.1111111111111111,\"#46039f\"],[0.2222222222222222,\"#7201a8\"],[0.3333333333333333,\"#9c179e\"],[0.4444444444444444,\"#bd3786\"],[0.5555555555555556,\"#d8576b\"],[0.6666666666666666,\"#ed7953\"],[0.7777777777777778,\"#fb9f3a\"],[0.8888888888888888,\"#fdca26\"],[1.0,\"#f0f921\"]]}],\"choropleth\":[{\"type\":\"choropleth\",\"colorbar\":{\"outlinewidth\":0,\"ticks\":\"\"}}],\"histogram2d\":[{\"type\":\"histogram2d\",\"colorbar\":{\"outlinewidth\":0,\"ticks\":\"\"},\"colorscale\":[[0.0,\"#0d0887\"],[0.1111111111111111,\"#46039f\"],[0.2222222222222222,\"#7201a8\"],[0.3333333333333333,\"#9c179e\"],[0.4444444444444444,\"#bd3786\"],[0.5555555555555556,\"#d8576b\"],[0.6666666666666666,\"#ed7953\"],[0.7777777777777778,\"#fb9f3a\"],[0.8888888888888888,\"#fdca26\"],[1.0,\"#f0f921\"]]}],\"heatmap\":[{\"type\":\"heatmap\",\"colorbar\":{\"outlinewidth\":0,\"ticks\":\"\"},\"colorscale\":[[0.0,\"#0d0887\"],[0.1111111111111111,\"#46039f\"],[0.2222222222222222,\"#7201a8\"],[0.3333333333333333,\"#9c179e\"],[0.4444444444444444,\"#bd3786\"],[0.5555555555555556,\"#d8576b\"],[0.6666666666666666,\"#ed7953\"],[0.7777777777777778,\"#fb9f3a\"],[0.8888888888888888,\"#fdca26\"],[1.0,\"#f0f921\"]]}],\"heatmapgl\":[{\"type\":\"heatmapgl\",\"colorbar\":{\"outlinewidth\":0,\"ticks\":\"\"},\"colorscale\":[[0.0,\"#0d0887\"],[0.1111111111111111,\"#46039f\"],[0.2222222222222222,\"#7201a8\"],[0.3333333333333333,\"#9c179e\"],[0.4444444444444444,\"#bd3786\"],[0.5555555555555556,\"#d8576b\"],[0.6666666666666666,\"#ed7953\"],[0.7777777777777778,\"#fb9f3a\"],[0.8888888888888888,\"#fdca26\"],[1.0,\"#f0f921\"]]}],\"contourcarpet\":[{\"type\":\"contourcarpet\",\"colorbar\":{\"outlinewidth\":0,\"ticks\":\"\"}}],\"contour\":[{\"type\":\"contour\",\"colorbar\":{\"outlinewidth\":0,\"ticks\":\"\"},\"colorscale\":[[0.0,\"#0d0887\"],[0.1111111111111111,\"#46039f\"],[0.2222222222222222,\"#7201a8\"],[0.3333333333333333,\"#9c179e\"],[0.4444444444444444,\"#bd3786\"],[0.5555555555555556,\"#d8576b\"],[0.6666666666666666,\"#ed7953\"],[0.7777777777777778,\"#fb9f3a\"],[0.8888888888888888,\"#fdca26\"],[1.0,\"#f0f921\"]]}],\"surface\":[{\"type\":\"surface\",\"colorbar\":{\"outlinewidth\":0,\"ticks\":\"\"},\"colorscale\":[[0.0,\"#0d0887\"],[0.1111111111111111,\"#46039f\"],[0.2222222222222222,\"#7201a8\"],[0.3333333333333333,\"#9c179e\"],[0.4444444444444444,\"#bd3786\"],[0.5555555555555556,\"#d8576b\"],[0.6666666666666666,\"#ed7953\"],[0.7777777777777778,\"#fb9f3a\"],[0.8888888888888888,\"#fdca26\"],[1.0,\"#f0f921\"]]}],\"mesh3d\":[{\"type\":\"mesh3d\",\"colorbar\":{\"outlinewidth\":0,\"ticks\":\"\"}}],\"scatter\":[{\"fillpattern\":{\"fillmode\":\"overlay\",\"size\":10,\"solidity\":0.2},\"type\":\"scatter\"}],\"parcoords\":[{\"type\":\"parcoords\",\"line\":{\"colorbar\":{\"outlinewidth\":0,\"ticks\":\"\"}}}],\"scatterpolargl\":[{\"type\":\"scatterpolargl\",\"marker\":{\"colorbar\":{\"outlinewidth\":0,\"ticks\":\"\"}}}],\"bar\":[{\"error_x\":{\"color\":\"#2a3f5f\"},\"error_y\":{\"color\":\"#2a3f5f\"},\"marker\":{\"line\":{\"color\":\"#E5ECF6\",\"width\":0.5},\"pattern\":{\"fillmode\":\"overlay\",\"size\":10,\"solidity\":0.2}},\"type\":\"bar\"}],\"scattergeo\":[{\"type\":\"scattergeo\",\"marker\":{\"colorbar\":{\"outlinewidth\":0,\"ticks\":\"\"}}}],\"scatterpolar\":[{\"type\":\"scatterpolar\",\"marker\":{\"colorbar\":{\"outlinewidth\":0,\"ticks\":\"\"}}}],\"histogram\":[{\"marker\":{\"pattern\":{\"fillmode\":\"overlay\",\"size\":10,\"solidity\":0.2}},\"type\":\"histogram\"}],\"scattergl\":[{\"type\":\"scattergl\",\"marker\":{\"colorbar\":{\"outlinewidth\":0,\"ticks\":\"\"}}}],\"scatter3d\":[{\"type\":\"scatter3d\",\"line\":{\"colorbar\":{\"outlinewidth\":0,\"ticks\":\"\"}},\"marker\":{\"colorbar\":{\"outlinewidth\":0,\"ticks\":\"\"}}}],\"scattermapbox\":[{\"type\":\"scattermapbox\",\"marker\":{\"colorbar\":{\"outlinewidth\":0,\"ticks\":\"\"}}}],\"scatterternary\":[{\"type\":\"scatterternary\",\"marker\":{\"colorbar\":{\"outlinewidth\":0,\"ticks\":\"\"}}}],\"scattercarpet\":[{\"type\":\"scattercarpet\",\"marker\":{\"colorbar\":{\"outlinewidth\":0,\"ticks\":\"\"}}}],\"carpet\":[{\"aaxis\":{\"endlinecolor\":\"#2a3f5f\",\"gridcolor\":\"white\",\"linecolor\":\"white\",\"minorgridcolor\":\"white\",\"startlinecolor\":\"#2a3f5f\"},\"baxis\":{\"endlinecolor\":\"#2a3f5f\",\"gridcolor\":\"white\",\"linecolor\":\"white\",\"minorgridcolor\":\"white\",\"startlinecolor\":\"#2a3f5f\"},\"type\":\"carpet\"}],\"table\":[{\"cells\":{\"fill\":{\"color\":\"#EBF0F8\"},\"line\":{\"color\":\"white\"}},\"header\":{\"fill\":{\"color\":\"#C8D4E3\"},\"line\":{\"color\":\"white\"}},\"type\":\"table\"}],\"barpolar\":[{\"marker\":{\"line\":{\"color\":\"#E5ECF6\",\"width\":0.5},\"pattern\":{\"fillmode\":\"overlay\",\"size\":10,\"solidity\":0.2}},\"type\":\"barpolar\"}],\"pie\":[{\"automargin\":true,\"type\":\"pie\"}]},\"layout\":{\"autotypenumbers\":\"strict\",\"colorway\":[\"#636efa\",\"#EF553B\",\"#00cc96\",\"#ab63fa\",\"#FFA15A\",\"#19d3f3\",\"#FF6692\",\"#B6E880\",\"#FF97FF\",\"#FECB52\"],\"font\":{\"color\":\"#2a3f5f\"},\"hovermode\":\"closest\",\"hoverlabel\":{\"align\":\"left\"},\"paper_bgcolor\":\"white\",\"plot_bgcolor\":\"#E5ECF6\",\"polar\":{\"bgcolor\":\"#E5ECF6\",\"angularaxis\":{\"gridcolor\":\"white\",\"linecolor\":\"white\",\"ticks\":\"\"},\"radialaxis\":{\"gridcolor\":\"white\",\"linecolor\":\"white\",\"ticks\":\"\"}},\"ternary\":{\"bgcolor\":\"#E5ECF6\",\"aaxis\":{\"gridcolor\":\"white\",\"linecolor\":\"white\",\"ticks\":\"\"},\"baxis\":{\"gridcolor\":\"white\",\"linecolor\":\"white\",\"ticks\":\"\"},\"caxis\":{\"gridcolor\":\"white\",\"linecolor\":\"white\",\"ticks\":\"\"}},\"coloraxis\":{\"colorbar\":{\"outlinewidth\":0,\"ticks\":\"\"}},\"colorscale\":{\"sequential\":[[0.0,\"#0d0887\"],[0.1111111111111111,\"#46039f\"],[0.2222222222222222,\"#7201a8\"],[0.3333333333333333,\"#9c179e\"],[0.4444444444444444,\"#bd3786\"],[0.5555555555555556,\"#d8576b\"],[0.6666666666666666,\"#ed7953\"],[0.7777777777777778,\"#fb9f3a\"],[0.8888888888888888,\"#fdca26\"],[1.0,\"#f0f921\"]],\"sequentialminus\":[[0.0,\"#0d0887\"],[0.1111111111111111,\"#46039f\"],[0.2222222222222222,\"#7201a8\"],[0.3333333333333333,\"#9c179e\"],[0.4444444444444444,\"#bd3786\"],[0.5555555555555556,\"#d8576b\"],[0.6666666666666666,\"#ed7953\"],[0.7777777777777778,\"#fb9f3a\"],[0.8888888888888888,\"#fdca26\"],[1.0,\"#f0f921\"]],\"diverging\":[[0,\"#8e0152\"],[0.1,\"#c51b7d\"],[0.2,\"#de77ae\"],[0.3,\"#f1b6da\"],[0.4,\"#fde0ef\"],[0.5,\"#f7f7f7\"],[0.6,\"#e6f5d0\"],[0.7,\"#b8e186\"],[0.8,\"#7fbc41\"],[0.9,\"#4d9221\"],[1,\"#276419\"]]},\"xaxis\":{\"gridcolor\":\"white\",\"linecolor\":\"white\",\"ticks\":\"\",\"title\":{\"standoff\":15},\"zerolinecolor\":\"white\",\"automargin\":true,\"zerolinewidth\":2},\"yaxis\":{\"gridcolor\":\"white\",\"linecolor\":\"white\",\"ticks\":\"\",\"title\":{\"standoff\":15},\"zerolinecolor\":\"white\",\"automargin\":true,\"zerolinewidth\":2},\"scene\":{\"xaxis\":{\"backgroundcolor\":\"#E5ECF6\",\"gridcolor\":\"white\",\"linecolor\":\"white\",\"showbackground\":true,\"ticks\":\"\",\"zerolinecolor\":\"white\",\"gridwidth\":2},\"yaxis\":{\"backgroundcolor\":\"#E5ECF6\",\"gridcolor\":\"white\",\"linecolor\":\"white\",\"showbackground\":true,\"ticks\":\"\",\"zerolinecolor\":\"white\",\"gridwidth\":2},\"zaxis\":{\"backgroundcolor\":\"#E5ECF6\",\"gridcolor\":\"white\",\"linecolor\":\"white\",\"showbackground\":true,\"ticks\":\"\",\"zerolinecolor\":\"white\",\"gridwidth\":2}},\"shapedefaults\":{\"line\":{\"color\":\"#2a3f5f\"}},\"annotationdefaults\":{\"arrowcolor\":\"#2a3f5f\",\"arrowhead\":0,\"arrowwidth\":1},\"geo\":{\"bgcolor\":\"white\",\"landcolor\":\"#E5ECF6\",\"subunitcolor\":\"white\",\"showland\":true,\"showlakes\":true,\"lakecolor\":\"white\"},\"title\":{\"x\":0.05},\"mapbox\":{\"style\":\"light\"}}},\"title\":{\"text\":\"Acceptance Rate based on Distance From Coupon Venue\"}},                        {\"responsive\": true}                    ).then(function(){\n",
       "                            \n",
       "var gd = document.getElementById('3aec4aae-f493-4b8c-86e1-6c3ecfa28e9e');\n",
       "var x = new MutationObserver(function (mutations, observer) {{\n",
       "        var display = window.getComputedStyle(gd).display;\n",
       "        if (!display || display === 'none') {{\n",
       "            console.log([gd, 'removed!']);\n",
       "            Plotly.purge(gd);\n",
       "            observer.disconnect();\n",
       "        }}\n",
       "}});\n",
       "\n",
       "// Listen for the removal of the full notebook cells\n",
       "var notebookContainer = gd.closest('#notebook-container');\n",
       "if (notebookContainer) {{\n",
       "    x.observe(notebookContainer, {childList: true});\n",
       "}}\n",
       "\n",
       "// Listen for the clearing of the current output cell\n",
       "var outputEl = gd.closest('.output');\n",
       "if (outputEl) {{\n",
       "    x.observe(outputEl, {childList: true});\n",
       "}}\n",
       "\n",
       "                        })                };                });            </script>        </div>"
      ]
     },
     "metadata": {},
     "output_type": "display_data"
    }
   ],
   "source": [
    "print(data.groupby(['toCoupon_GEQ5min', 'toCoupon_GEQ15min', 'toCoupon_GEQ25min'])['Y'].agg(lambda x: x.sum()/x.shape[0]))\n",
    "\n",
    "fig = go.Figure(go.Sankey(\n",
    "    arrangement='snap',\n",
    "    node=dict(\n",
    "        label = [\"All\", \"GEQ > 5min\", \"GEQ >15min\", \"No (Acceptance= 61.5%)\", \"GEQ >25min\", \"No (Acceptance=56.0%)\", \"Yes (Acceptance=43.4%)\"],\n",
    "        x = [0.1, 0.2, 0.33, 0.66, 0.66, 0.9, 0.9],\n",
    "        y= [0.5, 0.5, 0.5, 0.2, 0.8, 0.6, 0.9]\n",
    "        # label=[\"0\", \"1\", \"2\", \"3\", \"4\", \"5\"]\n",
    "\n",
    "    ),\n",
    "    link=dict(\n",
    "        source=[0,1,2,2,4,4],\n",
    "        target=[1,2,3,4,5,6],\n",
    "        # value=[1,0.439, 0.561, 0.787, 0.213]  \n",
    "        value = [12079,12079, 5300, 6779, 5337, 1442]\n",
    "    )\n",
    "))\n",
    "\n",
    "fig.update_layout(title= \"Acceptance Rate based on Distance From Coupon Venue\")\n",
    "fig.show()\n",
    "# fig.write_image(\"images/distance_to.png\")"
   ]
  },
  {
   "cell_type": "markdown",
   "id": "20bbd68d-0eec-4663-a32e-023f19cbf2dd",
   "metadata": {},
   "source": [
    "#### Does age have an impact on coupon acceptance?\n",
    "We notice a few things:\n",
    "\n",
    "1. The probability of accepting a coupon goes down as age increases.\n",
    "2. This trend is not consistent across different coupon types. Acceptance rates for _RestauranLessThan20_ and _CarryAway_ remain high across all age groups.\n",
    "3. Below 21 crowd is more likely to accept coupons from a Coffee House, as compared to other types of establishments.\n",
    "4. 50 plus customers accept Carry Away coupons at a higher rate, compared to other age groups and venue types."
   ]
  },
  {
   "cell_type": "code",
   "execution_count": null,
   "id": "afcd73e7-f277-491f-8071-7aa1a364ef96",
   "metadata": {},
   "outputs": [],
   "source": [
    "# sns.barplot(data= data.groupby([\"age\",\"Accepted\"])['Y'].count().reset_index(), x= \"age\", y= \"Y\", hue= \"Accepted\")\n",
    "plt.figure(figsize= (6,3))\n",
    "data.groupby('age')['Y'].agg(lambda x: x.sum()/x.shape[0])[order_age].plot(kind= 'bar', color= 'maroon')\n",
    "# data.groupby('has_children')['Y'].agg(lambda x: x.sum()/x.shape[0]).plot(kind= 'bar', color= 'maroon')\n",
    "plt.ylim((0.4,0.7));\n",
    "plt.title(\"Total coupon acceptance rate by age\");"
   ]
  },
  {
   "cell_type": "code",
   "execution_count": null,
   "id": "5aa40f14-0340-4bad-96db-dbb03339cce4",
   "metadata": {},
   "outputs": [],
   "source": [
    "fig = px.line(pd.pivot_table(data, index= \"coupon\", columns= \"age\", values= \"Y\", aggfunc= lambda x: \n",
    "               np.round(x.sum()/x.shape[0],2), margins= False)[['below21','21','26','31','36','41','46','50plus']].unstack().reset_index(),\n",
    "        x= \"age\", color= \"coupon\", y= 0, title= \"Fraction of coupons accepted by age and venue type\")\n",
    "fig.update_layout(yaxis_title= '', width= 800, height= 400)"
   ]
  },
  {
   "cell_type": "code",
   "execution_count": null,
   "id": "dacfdb4e-51cb-4cfa-b294-549b33f02405",
   "metadata": {},
   "outputs": [],
   "source": [
    "sns.heatmap(pd.pivot_table(data, index= \"coupon\", columns= \"age\", values= \"Y\", aggfunc= lambda x: \n",
    "               np.round(x.sum()/x.shape[0],2), margins= True)[['below21','21','26','31','36','41','46','50plus']], \n",
    "            annot= True, cmap= sns.cubehelix_palette(as_cmap=True));\n",
    "plt.title(\"Percentage coupons accepted based on age and venue type\");"
   ]
  },
  {
   "cell_type": "markdown",
   "id": "460adb21-57d0-4318-9d83-f2ea83ce88ab",
   "metadata": {},
   "source": [
    "#### What other factors can impact coupon acceptance?"
   ]
  },
  {
   "cell_type": "code",
   "execution_count": null,
   "id": "2950c102-3be9-4f92-8c1d-c383d9671e69",
   "metadata": {},
   "outputs": [],
   "source": [
    "tmp_df = pd.pivot_table(data, index= \"Accepted\", columns= \"weather\", values= \"Y\", aggfunc= 'count')\n",
    "\n",
    "# Create subplots: use 'domain' type for Pie subplot\n",
    "fig = make_subplots(rows=1, cols=3, specs=[[{'type':'domain'}, {'type':'domain'}, {'type':'domain'}]])\n",
    "fig.add_trace(go.Pie(labels= tmp_df.index, values= tmp_df.iloc[:,0], name= tmp_df.columns[0].upper()),\n",
    "              1, 1)\n",
    "fig.add_trace(go.Pie(labels= tmp_df.index, values= tmp_df.iloc[:,1], name= tmp_df.columns[1].upper()),\n",
    "              1, 2)\n",
    "fig.add_trace(go.Pie(labels= tmp_df.index, values= tmp_df.iloc[:,2], name= tmp_df.columns[1].upper()),\n",
    "              1, 3)\n",
    "\n",
    "# Use `hole` to create a donut-like pie chart\n",
    "fig.update_traces(hole=.4, hoverinfo=\"label+percent+name\")\n",
    "\n",
    "fig.update_layout(\n",
    "    title_text=\"Acceptance Rate by Weather Conditions\",\n",
    "    # Add annotations in the center of the donut pies.\n",
    "    annotations=[dict(text= tmp_df.columns[0].upper(), x=0.12, y=0.5, font_size=13, showarrow=False),\n",
    "                 dict(text= tmp_df.columns[1].upper(), x=0.5, y=0.5, font_size=13, showarrow=False),\n",
    "                 dict(text= tmp_df.columns[2].upper(), x=0.88, y=0.5, font_size=13, showarrow=False)])\n",
    "fig.show()"
   ]
  },
  {
   "cell_type": "markdown",
   "id": "0d855404-c0cd-46c2-88df-3eca73c2b325",
   "metadata": {},
   "source": [
    "### Analyze Coupons of Specific Type"
   ]
  },
  {
   "cell_type": "code",
   "execution_count": null,
   "id": "b79c7e84-721f-4542-bcdb-64963e623de4",
   "metadata": {},
   "outputs": [],
   "source": [
    "# Extract data for a specific type of coupon\n",
    "cc = 'Bar'\n",
    "tmp_dt = data.query(f'coupon == \"{cc}\"')\n",
    "\n",
    "# print total rate of acceptance\n",
    "print(\"Pct. of coupons accepted for \"+ cc + \": \" + str(np.round(100*tmp_dt['Y'].agg(lambda x: x.sum()/x.shape[0]),1)) + \"%.\")\n",
    "\n",
    "# acceptance rate based on frequency of visit\n",
    "freq_df = pd.pivot_table(tmp_dt, index= 'Accepted', columns= cc, values= \"destination\", aggfunc= 'count')[order_visit]\n",
    "freq_df = freq_df.divide(freq_df.sum()).round(3).unstack()* 100 # convert to percentage\n",
    "freq_df.name= 'pct'\n",
    "fig = px.bar(data_frame= freq_df.reset_index(), x = \"pct\", y= cc, color= 'Accepted', text_auto= True, \n",
    "       title= \"Breakdown of '\" + cc + \"' Coupon Acceptance by Frequency of Visit\")\n",
    "fig.show()"
   ]
  },
  {
   "cell_type": "code",
   "execution_count": null,
   "id": "0d0ab569-f8bb-4694-a0bd-652272c78bdc",
   "metadata": {},
   "outputs": [],
   "source": [
    "plt.figure(figsize= (12,3))\n",
    "sns.barplot(data= pd.pivot_table(tmp_dt, index= \"income\", columns = \"gender\", values= \"Y\", aggfunc= lambda x: \n",
    "            np.round(x.sum()/x.shape[0],2)).reindex(order_income).unstack().dropna().reset_index(), x= \"income\", y= 0,\n",
    "            hue= \"gender\")\n",
    "plt.xticks(rotation = 45);\n",
    "# plt.ylim((0.1,0.7));\n",
    "plt.title(\"Percentage of '\" + cc + \"' coupons accepted by income and gender\");\n",
    "plt.xlabel('');\n",
    "    \n",
    "# fig.update_layout(yaxis_title= '', width= 800, height= 400)"
   ]
  },
  {
   "cell_type": "code",
   "execution_count": null,
   "id": "64e6080b-8a04-4b0e-8fcf-c6715239f509",
   "metadata": {},
   "outputs": [],
   "source": [
    "# acceptance rate based on direction and passenger type\n",
    "plt.figure(figsize = (7,2))\n",
    "sns.heatmap(pd.pivot_table(tmp_dt, index= \"gender\", columns= \"age\", values= \"Y\", aggfunc= lambda x: x.sum()/x.shape[0])[order_age],\n",
    "            annot= True, cmap= sns.cubehelix_palette(as_cmap=True));\n",
    "plt.title(\"Fraction of '\" + cc+ \"' Coupons Accepted \\n (Conditional on Gender and Age)\");\n",
    "plt.xlabel(\"Age\");\n",
    "plt.ylabel(\"Gender\");"
   ]
  },
  {
   "cell_type": "markdown",
   "id": "eb203b5f-2073-410f-93d3-4f1de6b04edf",
   "metadata": {},
   "source": [
    "#### Age Cutoff Based on Coupon Type and Age\n",
    "\n",
    "In the example above, we can clearly see that women over the age of 30 are less likely to accept bar coupons. There is no such clear age demarcation for men in accepting bar coupons. This leads us to believe that we can come up with efficient age cutoff points that can change based on the coupon type and gender."
   ]
  },
  {
   "cell_type": "code",
   "execution_count": null,
   "id": "133704f7-a9c7-4141-9366-5c4217ceef7a",
   "metadata": {},
   "outputs": [],
   "source": [
    "all_df = pd.DataFrame(index= data.coupon.sort_values().unique(), columns= ['Female'])\n",
    "for cc in all_df.index:\n",
    "    for gg in ['Male','Female']:\n",
    "\n",
    "        \n",
    "        # get temporary dataset for coupon type and gender\n",
    "        tmp_dt = data.query(\"coupon == '\" + cc + \"' and gender == '\" +gg + \"'\").copy()\n",
    "        res_df = pd.DataFrame(index = order_age, columns= [0,1])\n",
    "\n",
    "        # iterate over different age groups\n",
    "        for ii in range(1, 1 + len(order_age)):\n",
    "            tmp_dt['Inclusive'] = 0\n",
    "            tmp_dt.loc[tmp_dt.age.isin(order_age[0:ii]), \"Inclusive\"] = 1\n",
    "            res_df.loc[order_age[ii - 1],:] = tmp_dt.groupby(\"Inclusive\")['Y'].agg(lambda x: x.sum()/x.shape[0]).values\n",
    "\n",
    "        # calculate the difference in acceptance rate inclusive up to this age group and exclusive of it\n",
    "        res_df['delta'] = res_df.diff(axis=1)[1].abs()\n",
    "\n",
    "        # calculate the age group inclusive of which we get the max delta\n",
    "        all_df.loc[cc,gg] = res_df[res_df.delta == res_df.delta.max()].index[0]\n",
    "        # res_df[res_df[1].diff() == res_df[1].diff().max()].index[0]\n",
    "\n",
    "print(all_df)\n",
    "\n"
   ]
  },
  {
   "cell_type": "markdown",
   "id": "09d1309e-a79c-46f4-a0a7-0e83377a8b35",
   "metadata": {},
   "source": [
    "The way to interpret the above table is as follows: \n",
    "For male customers, if we are looking at the probability of acceptance of a 'Bar' coupon, it is best to segment him into the 'Below 25' and 'Above 25' category. However, if we want to gauge the possibility of a 'CoffeeHouse' coupon, we should segment male customers into 'Below 21' and 'Above 21' categories.\n",
    "\n",
    "<ins>In the heatmap below, we can see that **over 80% of male customers** below the age of 21 accept CoffeeHouse coupons!</ins>\n",
    "\n",
    "This leads us to believe that in order to get best insights from the data about coupon acceptance rate, we have look at complex and interconnected dynamics between different variables like gender, age, coupon type, and possibly income, marital status, weather and a lot more!\n",
    "\n"
   ]
  },
  {
   "cell_type": "code",
   "execution_count": null,
   "id": "72e17f45-38e0-44b6-beb3-bf9de466541d",
   "metadata": {},
   "outputs": [],
   "source": [
    "# acceptance rate based on direction and passenger type\n",
    "cc= 'CoffeeHouse'\n",
    "plt.figure(figsize = (7,2))\n",
    "sns.heatmap(pd.pivot_table(data.query(\"coupon == '\" + cc + \"'\"), index= \"gender\", columns= \"age\", values= \"Y\", \n",
    "                        aggfunc= lambda x: x.sum()/x.shape[0])[order_age],annot= True, cmap= sns.cubehelix_palette(as_cmap=True));\n",
    "plt.title(\"Fraction of '\" + cc+ \"' Coupons Accepted \\n (Conditional on Gender and Age)\");\n",
    "plt.xlabel(\"Age\");\n",
    "plt.ylabel(\"Gender\");\n",
    "plt.show()\n",
    "\n",
    "\n",
    "cc= 'CarryAway'\n",
    "plt.figure(figsize = (7,4))\n",
    "sns.heatmap(pd.pivot_table(data.query(\"gender == 'Female'\"), index= \"coupon\", columns= \"age\", values= \"Y\", \n",
    "                        aggfunc= lambda x: x.sum()/x.shape[0])[order_age],annot= True, cmap= sns.cubehelix_palette(as_cmap=True));\n",
    "plt.title(\"Fraction of Coupons Accepted by Female Customer\\n (Conditional on Coupon and Age)\");\n",
    "plt.xlabel(\"Age\");\n",
    "plt.ylabel(\"Gender\");\n",
    "plt.show()"
   ]
  },
  {
   "cell_type": "code",
   "execution_count": null,
   "id": "27deb5f4-18d4-42ee-a634-93b76fc3f9b8",
   "metadata": {},
   "outputs": [],
   "source": []
  }
 ],
 "metadata": {
  "kernelspec": {
   "display_name": "Python 3 (ipykernel)",
   "language": "python",
   "name": "python3"
  },
  "language_info": {
   "codemirror_mode": {
    "name": "ipython",
    "version": 3
   },
   "file_extension": ".py",
   "mimetype": "text/x-python",
   "name": "python",
   "nbconvert_exporter": "python",
   "pygments_lexer": "ipython3",
   "version": "3.12.2"
  }
 },
 "nbformat": 4,
 "nbformat_minor": 5
}
